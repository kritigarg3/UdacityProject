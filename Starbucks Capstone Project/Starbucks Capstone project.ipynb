{
 "cells": [
  {
   "cell_type": "code",
   "execution_count": 27,
   "metadata": {},
   "outputs": [],
   "source": [
    "import pandas as pd\n",
    "import numpy as np\n",
    "import math\n",
    "import json\n",
    "% matplotlib inline\n",
    "import matplotlib.pyplot as plt\n",
    "import definitions\n",
    "from sklearn.preprocessing import MinMaxScaler\n",
    "from sklearn.model_selection import train_test_split\n",
    "from sklearn.linear_model import LogisticRegression\n",
    "\n",
    "# read in the json files\n",
    "portfolio = pd.read_json('data/portfolio.json', orient='records', lines=True)\n",
    "profile = pd.read_json('data/profile.json', orient='records', lines=True)\n",
    "transcript = pd.read_json('data/transcript.json', orient='records', lines=True)"
   ]
  },
  {
   "cell_type": "markdown",
   "metadata": {},
   "source": [
    "# Data Cleaning & Pre-processing"
   ]
  },
  {
   "cell_type": "markdown",
   "metadata": {},
   "source": [
    "Portfolio Data Cleaning"
   ]
  },
  {
   "cell_type": "code",
   "execution_count": 28,
   "metadata": {},
   "outputs": [],
   "source": [
    "##Converting duration days to hours for parity with time column in trancript\n",
    "portfolio['duration_h'] = portfolio['duration']*24\n",
    "portfolio['offer_id'] = portfolio.index+1\n"
   ]
  },
  {
   "cell_type": "code",
   "execution_count": 29,
   "metadata": {},
   "outputs": [
    {
     "data": {
      "text/html": [
       "<div>\n",
       "<style scoped>\n",
       "    .dataframe tbody tr th:only-of-type {\n",
       "        vertical-align: middle;\n",
       "    }\n",
       "\n",
       "    .dataframe tbody tr th {\n",
       "        vertical-align: top;\n",
       "    }\n",
       "\n",
       "    .dataframe thead th {\n",
       "        text-align: right;\n",
       "    }\n",
       "</style>\n",
       "<table border=\"1\" class=\"dataframe\">\n",
       "  <thead>\n",
       "    <tr style=\"text-align: right;\">\n",
       "      <th></th>\n",
       "      <th>channels</th>\n",
       "      <th>difficulty</th>\n",
       "      <th>duration</th>\n",
       "      <th>id</th>\n",
       "      <th>offer_type</th>\n",
       "      <th>reward</th>\n",
       "      <th>duration_h</th>\n",
       "      <th>offer_id</th>\n",
       "    </tr>\n",
       "  </thead>\n",
       "  <tbody>\n",
       "    <tr>\n",
       "      <th>0</th>\n",
       "      <td>[email, mobile, social]</td>\n",
       "      <td>0.50</td>\n",
       "      <td>7</td>\n",
       "      <td>ae264e3637204a6fb9bb56bc8210ddfd</td>\n",
       "      <td>bogo</td>\n",
       "      <td>1.0</td>\n",
       "      <td>168</td>\n",
       "      <td>1</td>\n",
       "    </tr>\n",
       "    <tr>\n",
       "      <th>1</th>\n",
       "      <td>[web, email, mobile, social]</td>\n",
       "      <td>0.50</td>\n",
       "      <td>5</td>\n",
       "      <td>4d5c57ea9a6940dd891ad53e9dbe8da0</td>\n",
       "      <td>bogo</td>\n",
       "      <td>1.0</td>\n",
       "      <td>120</td>\n",
       "      <td>2</td>\n",
       "    </tr>\n",
       "    <tr>\n",
       "      <th>2</th>\n",
       "      <td>[web, email, mobile]</td>\n",
       "      <td>0.00</td>\n",
       "      <td>4</td>\n",
       "      <td>3f207df678b143eea3cee63160fa8bed</td>\n",
       "      <td>informational</td>\n",
       "      <td>0.0</td>\n",
       "      <td>96</td>\n",
       "      <td>3</td>\n",
       "    </tr>\n",
       "    <tr>\n",
       "      <th>3</th>\n",
       "      <td>[web, email, mobile]</td>\n",
       "      <td>0.25</td>\n",
       "      <td>7</td>\n",
       "      <td>9b98b8c7a33c4b65b9aebfe6a799e6d9</td>\n",
       "      <td>bogo</td>\n",
       "      <td>0.5</td>\n",
       "      <td>168</td>\n",
       "      <td>4</td>\n",
       "    </tr>\n",
       "    <tr>\n",
       "      <th>4</th>\n",
       "      <td>[web, email]</td>\n",
       "      <td>1.00</td>\n",
       "      <td>10</td>\n",
       "      <td>0b1e1539f2cc45b7b9fa7c272da2e1d7</td>\n",
       "      <td>discount</td>\n",
       "      <td>0.5</td>\n",
       "      <td>240</td>\n",
       "      <td>5</td>\n",
       "    </tr>\n",
       "  </tbody>\n",
       "</table>\n",
       "</div>"
      ],
      "text/plain": [
       "                       channels  difficulty  duration  \\\n",
       "0       [email, mobile, social]        0.50         7   \n",
       "1  [web, email, mobile, social]        0.50         5   \n",
       "2          [web, email, mobile]        0.00         4   \n",
       "3          [web, email, mobile]        0.25         7   \n",
       "4                  [web, email]        1.00        10   \n",
       "\n",
       "                                 id     offer_type  reward  duration_h  \\\n",
       "0  ae264e3637204a6fb9bb56bc8210ddfd           bogo     1.0         168   \n",
       "1  4d5c57ea9a6940dd891ad53e9dbe8da0           bogo     1.0         120   \n",
       "2  3f207df678b143eea3cee63160fa8bed  informational     0.0          96   \n",
       "3  9b98b8c7a33c4b65b9aebfe6a799e6d9           bogo     0.5         168   \n",
       "4  0b1e1539f2cc45b7b9fa7c272da2e1d7       discount     0.5         240   \n",
       "\n",
       "   offer_id  \n",
       "0         1  \n",
       "1         2  \n",
       "2         3  \n",
       "3         4  \n",
       "4         5  "
      ]
     },
     "execution_count": 29,
     "metadata": {},
     "output_type": "execute_result"
    }
   ],
   "source": [
    "# To normalize the amounts in rewards and difficulty columns, Initialize a scaler, then apply it to the features\n",
    "scaler = MinMaxScaler() # default=(0, 1)\n",
    "offer_amounts_col = ['difficulty','reward']\n",
    "\n",
    "#features_log_minmax_transform\n",
    "portfolio[offer_amounts_col] = scaler.fit_transform(portfolio[offer_amounts_col])\n",
    "\n",
    "portfolio.head()"
   ]
  },
  {
   "cell_type": "markdown",
   "metadata": {},
   "source": [
    "Profile Data Cleaning"
   ]
  },
  {
   "cell_type": "code",
   "execution_count": 30,
   "metadata": {},
   "outputs": [],
   "source": [
    "##It was found that age=118 was a placeholder for people whose information was not available\n",
    "profile = profile[profile['age']!=118].reset_index(drop=True)"
   ]
  },
  {
   "cell_type": "code",
   "execution_count": 31,
   "metadata": {},
   "outputs": [],
   "source": [
    "##Converting string to datetime and capturing the year\n",
    "profile['became_member_on'] = pd.to_datetime(profile['became_member_on'].astype(str), format='%Y%m%d')\n",
    "profile['member_year'] = profile['became_member_on'].dt.year"
   ]
  },
  {
   "cell_type": "code",
   "execution_count": 33,
   "metadata": {},
   "outputs": [],
   "source": [
    "profile['person_id'] = profile.index+1"
   ]
  },
  {
   "cell_type": "code",
   "execution_count": 32,
   "metadata": {},
   "outputs": [],
   "source": [
    "profile['age_group'] = pd.cut(profile['age'], bins=[17, 22, 35, 60, 103],labels=['teenager', 'young-adult', 'adult', 'elderly'])"
   ]
  },
  {
   "cell_type": "code",
   "execution_count": 68,
   "metadata": {},
   "outputs": [
    {
     "data": {
      "text/html": [
       "<div>\n",
       "<style scoped>\n",
       "    .dataframe tbody tr th:only-of-type {\n",
       "        vertical-align: middle;\n",
       "    }\n",
       "\n",
       "    .dataframe tbody tr th {\n",
       "        vertical-align: top;\n",
       "    }\n",
       "\n",
       "    .dataframe thead th {\n",
       "        text-align: right;\n",
       "    }\n",
       "</style>\n",
       "<table border=\"1\" class=\"dataframe\">\n",
       "  <thead>\n",
       "    <tr style=\"text-align: right;\">\n",
       "      <th></th>\n",
       "      <th>age</th>\n",
       "      <th>became_member_on</th>\n",
       "      <th>gender</th>\n",
       "      <th>id</th>\n",
       "      <th>income</th>\n",
       "      <th>member_year</th>\n",
       "      <th>age_group</th>\n",
       "      <th>person_id</th>\n",
       "    </tr>\n",
       "  </thead>\n",
       "  <tbody>\n",
       "    <tr>\n",
       "      <th>0</th>\n",
       "      <td>55</td>\n",
       "      <td>2017-07-15</td>\n",
       "      <td>F</td>\n",
       "      <td>0610b486422d4921ae7d2bf64640c50b</td>\n",
       "      <td>112000.0</td>\n",
       "      <td>2017</td>\n",
       "      <td>adult</td>\n",
       "      <td>1</td>\n",
       "    </tr>\n",
       "    <tr>\n",
       "      <th>1</th>\n",
       "      <td>75</td>\n",
       "      <td>2017-05-09</td>\n",
       "      <td>F</td>\n",
       "      <td>78afa995795e4d85b5d9ceeca43f5fef</td>\n",
       "      <td>100000.0</td>\n",
       "      <td>2017</td>\n",
       "      <td>elderly</td>\n",
       "      <td>2</td>\n",
       "    </tr>\n",
       "    <tr>\n",
       "      <th>2</th>\n",
       "      <td>68</td>\n",
       "      <td>2018-04-26</td>\n",
       "      <td>M</td>\n",
       "      <td>e2127556f4f64592b11af22de27a7932</td>\n",
       "      <td>70000.0</td>\n",
       "      <td>2018</td>\n",
       "      <td>elderly</td>\n",
       "      <td>3</td>\n",
       "    </tr>\n",
       "    <tr>\n",
       "      <th>3</th>\n",
       "      <td>65</td>\n",
       "      <td>2018-02-09</td>\n",
       "      <td>M</td>\n",
       "      <td>389bc3fa690240e798340f5a15918d5c</td>\n",
       "      <td>53000.0</td>\n",
       "      <td>2018</td>\n",
       "      <td>elderly</td>\n",
       "      <td>4</td>\n",
       "    </tr>\n",
       "    <tr>\n",
       "      <th>4</th>\n",
       "      <td>58</td>\n",
       "      <td>2017-11-11</td>\n",
       "      <td>M</td>\n",
       "      <td>2eeac8d8feae4a8cad5a6af0499a211d</td>\n",
       "      <td>51000.0</td>\n",
       "      <td>2017</td>\n",
       "      <td>adult</td>\n",
       "      <td>5</td>\n",
       "    </tr>\n",
       "  </tbody>\n",
       "</table>\n",
       "</div>"
      ],
      "text/plain": [
       "   age became_member_on gender                                id    income  \\\n",
       "0   55       2017-07-15      F  0610b486422d4921ae7d2bf64640c50b  112000.0   \n",
       "1   75       2017-05-09      F  78afa995795e4d85b5d9ceeca43f5fef  100000.0   \n",
       "2   68       2018-04-26      M  e2127556f4f64592b11af22de27a7932   70000.0   \n",
       "3   65       2018-02-09      M  389bc3fa690240e798340f5a15918d5c   53000.0   \n",
       "4   58       2017-11-11      M  2eeac8d8feae4a8cad5a6af0499a211d   51000.0   \n",
       "\n",
       "   member_year age_group  person_id  \n",
       "0         2017     adult          1  \n",
       "1         2017   elderly          2  \n",
       "2         2018   elderly          3  \n",
       "3         2018   elderly          4  \n",
       "4         2017     adult          5  "
      ]
     },
     "execution_count": 68,
     "metadata": {},
     "output_type": "execute_result"
    }
   ],
   "source": [
    "profile.head()"
   ]
  },
  {
   "cell_type": "markdown",
   "metadata": {},
   "source": [
    "Transcript Data Cleaning"
   ]
  },
  {
   "cell_type": "code",
   "execution_count": 34,
   "metadata": {},
   "outputs": [],
   "source": [
    "transcript = transcript.merge(profile[['id', 'person_id']], how='inner', right_on='id', left_on='person')\n"
   ]
  },
  {
   "cell_type": "code",
   "execution_count": 45,
   "metadata": {},
   "outputs": [],
   "source": [
    "#transcript merged with portfolio\n",
    "trans_with_port = transcript.merge(portfolio[['id', 'offer_id', 'offer_type', 'duration_h', 'difficulty', 'reward']], how='left', left_on='offer_id', right_on='id')"
   ]
  },
  {
   "cell_type": "code",
   "execution_count": 35,
   "metadata": {},
   "outputs": [],
   "source": [
    "##creating keys for column 'value'\n",
    "keys = []\n",
    "for idx, row in transcript.iterrows():\n",
    "    for k in row['value']:\n",
    "        if k in keys:\n",
    "            continue\n",
    "        else:\n",
    "            keys.append(k)"
   ]
  },
  {
   "cell_type": "code",
   "execution_count": 36,
   "metadata": {},
   "outputs": [],
   "source": [
    "\n",
    "#create columns and specify the datatype of each of them\n",
    "transcript['offer_id'] = '' # string\n",
    "transcript['amount'] = 0  #integer\n",
    "transcript['reward'] = 0  #integer"
   ]
  },
  {
   "cell_type": "code",
   "execution_count": 37,
   "metadata": {},
   "outputs": [],
   "source": [
    "\n",
    "# Iterating over clean_transcript dataset and checking 'value' column\n",
    "# then updating it and using the values to fill in the columns created above\n",
    "for idx, row in transcript.iterrows():\n",
    "    for k in row['value']:\n",
    "        if k == 'offer_id' or k == 'offer id':\n",
    "            transcript.at[idx, 'offer_id'] = row['value'][k]\n",
    "        if k == 'amount':\n",
    "            transcript.at[idx, 'amount'] = row['value'][k]\n",
    "        if k == 'reward':\n",
    "            transcript.at[idx, 'reward'] = row['value'][k]"
   ]
  },
  {
   "cell_type": "code",
   "execution_count": 38,
   "metadata": {},
   "outputs": [],
   "source": [
    "transcript['offer_id'] = np.where(transcript['offer_id']=='', 'N/A', transcript['offer_id'])"
   ]
  },
  {
   "cell_type": "code",
   "execution_count": 39,
   "metadata": {},
   "outputs": [],
   "source": [
    "transcript.drop('value', axis=1, inplace=True)"
   ]
  },
  {
   "cell_type": "code",
   "execution_count": null,
   "metadata": {},
   "outputs": [],
   "source": [
    "transcript.head()"
   ]
  },
  {
   "cell_type": "markdown",
   "metadata": {},
   "source": [
    "# Data Exploration"
   ]
  },
  {
   "cell_type": "code",
   "execution_count": 162,
   "metadata": {},
   "outputs": [
    {
     "data": {
      "text/plain": [
       "Text(0.5,1,'When did a customer become a member on the app?')"
      ]
     },
     "execution_count": 162,
     "metadata": {},
     "output_type": "execute_result"
    },
    {
     "data": {
      "image/png": "[encoded data removed]",
      "text/plain": [
       "<matplotlib.figure.Figure at 0x7ff46fd1c048>"
      ]
     },
     "metadata": {
      "needs_background": "light"
     },
     "output_type": "display_data"
    }
   ],
   "source": [
    "#When did a customer become a member on the app?\n",
    "profile_year_counts = profile.member_year.value_counts()\n",
    "year = profile['member_year'].unique().tolist()\n",
    "data = profile_year_counts\n",
    "plt.bar(year,height = data);\n",
    "plt.xlabel('Year of joining the app');\n",
    "plt.ylabel('No. of Customers');\n",
    "plt.title('When did a customer become a member on the app?')"
   ]
  },
  {
   "cell_type": "code",
   "execution_count": 163,
   "metadata": {},
   "outputs": [
    {
     "data": {
      "text/plain": [
       "Text(0.5,1,'Income distribution of customer')"
      ]
     },
     "execution_count": 163,
     "metadata": {},
     "output_type": "execute_result"
    },
    {
     "data": {
      "image/png": "[encoded data removed]",
      "text/plain": [
       "<matplotlib.figure.Figure at 0x7ff46fcda240>"
      ]
     },
     "metadata": {
      "needs_background": "light"
     },
     "output_type": "display_data"
    }
   ],
   "source": [
    "#Income distribution of customer\n",
    "profile.income.hist();\n",
    "\n",
    "plt.xlabel('Annual income');\n",
    "plt.ylabel('No. of Customers');\n",
    "plt.title('Income distribution of customer')"
   ]
  },
  {
   "cell_type": "code",
   "execution_count": 164,
   "metadata": {},
   "outputs": [
    {
     "data": {
      "text/plain": [
       "Text(0.5,1,'How are the customers distributed across gender?')"
      ]
     },
     "execution_count": 164,
     "metadata": {},
     "output_type": "execute_result"
    },
    {
     "data": {
      "image/png": "[encoded data removed]",
      "text/plain": [
       "<matplotlib.figure.Figure at 0x7ff46fc9ff60>"
      ]
     },
     "metadata": {
      "needs_background": "light"
     },
     "output_type": "display_data"
    }
   ],
   "source": [
    "#How are the customers distributed across gender?\n",
    "gender_dict = { 'M': 'Male','F': 'Female', 'O': 'Other'}\n",
    "profile_gender_counts = profile.gender.value_counts()\n",
    "gender = list(gender_dict.values())\n",
    "data = profile_gender_counts\n",
    "plt.bar(gender,height = data);\n",
    "plt.xlabel('Gender');\n",
    "plt.ylabel('No. of Customers');\n",
    "plt.title('How are the customers distributed across gender?')"
   ]
  },
  {
   "cell_type": "code",
   "execution_count": 165,
   "metadata": {},
   "outputs": [
    {
     "data": {
      "text/plain": [
       "Text(0.5,1,'Age-wise distribution of customers')"
      ]
     },
     "execution_count": 165,
     "metadata": {},
     "output_type": "execute_result"
    },
    {
     "data": {
      "image/png": "[encoded data removed]",
      "text/plain": [
       "<matplotlib.figure.Figure at 0x7ff46fc4e4e0>"
      ]
     },
     "metadata": {
      "needs_background": "light"
     },
     "output_type": "display_data"
    }
   ],
   "source": [
    "##Age-wise distribution of customers\n",
    "result = plt.hist(profile.age, bins=20, color='c', edgecolor='k', alpha=0.65)\n",
    "\n",
    "plt.axvline(profile.age.mean(), color='k', linestyle='dashed', linewidth=1)\n",
    "plt.axvline(profile.age.median(), color='b', linestyle='dashed', linewidth=1)\n",
    "plt.xlabel('Age');\n",
    "plt.ylabel('No. of Customers');\n",
    "plt.title('Age-wise distribution of customers')"
   ]
  },
  {
   "cell_type": "code",
   "execution_count": 166,
   "metadata": {},
   "outputs": [],
   "source": [
    "## Understanding How many customers took actions atleast once?\n",
    "complete = transcript[transcript.event == 'offer completed']['person'].nunique()\n",
    "view = transcript[transcript.event == 'offer viewed']['person'].nunique()\n",
    "received = transcript[transcript.event == 'offer received']['person'].nunique()"
   ]
  },
  {
   "cell_type": "code",
   "execution_count": 167,
   "metadata": {},
   "outputs": [
    {
     "data": {
      "text/plain": [
       "Text(0.5,1,'How many customers took actions atleast once?')"
      ]
     },
     "execution_count": 167,
     "metadata": {},
     "output_type": "execute_result"
    },
    {
     "data": {
      "image/png": "[encoded data removed]",
      "text/plain": [
       "<matplotlib.figure.Figure at 0x7ff46fc24c88>"
      ]
     },
     "metadata": {
      "needs_background": "light"
     },
     "output_type": "display_data"
    }
   ],
   "source": [
    "profile_action_counts = [received, view, complete]\n",
    "action = ['offer received', 'offer viewed', 'offer completed']\n",
    "data = profile_action_counts\n",
    "plt.bar(action,height = data);\n",
    "xlocs, xlabs = plt.xticks()\n",
    "plt.xlabel('Event');\n",
    "plt.ylabel('No. of Customers');\n",
    "plt.title('How many customers took actions atleast once?')"
   ]
  },
  {
   "cell_type": "code",
   "execution_count": 84,
   "metadata": {},
   "outputs": [],
   "source": [
    "##Divide transcations based on whether the offer was received, viewed or completed\n",
    "trans_complete = transcript[transcript.event == 'offer completed']\n",
    "trans_view = transcript[transcript.event == 'offer viewed']\n",
    "trans_received = transcript[transcript.event == 'offer received']\n",
    "trans_trans = transcript[transcript.event == 'transaction']\n",
    "trans_trans = trans_trans.sort_values(by=['person_id', 'time']).reset_index(drop=True)"
   ]
  },
  {
   "cell_type": "code",
   "execution_count": 131,
   "metadata": {},
   "outputs": [
    {
     "data": {
      "text/html": [
       "<div>\n",
       "<style scoped>\n",
       "    .dataframe tbody tr th:only-of-type {\n",
       "        vertical-align: middle;\n",
       "    }\n",
       "\n",
       "    .dataframe tbody tr th {\n",
       "        vertical-align: top;\n",
       "    }\n",
       "\n",
       "    .dataframe thead th {\n",
       "        text-align: right;\n",
       "    }\n",
       "</style>\n",
       "<table border=\"1\" class=\"dataframe\">\n",
       "  <thead>\n",
       "    <tr style=\"text-align: right;\">\n",
       "      <th></th>\n",
       "      <th>event_x</th>\n",
       "      <th>person_x</th>\n",
       "      <th>time_x</th>\n",
       "      <th>id_x</th>\n",
       "      <th>person_id</th>\n",
       "      <th>offer_id_x</th>\n",
       "      <th>amount_x</th>\n",
       "      <th>reward_x</th>\n",
       "      <th>event_y</th>\n",
       "      <th>person_y</th>\n",
       "      <th>...</th>\n",
       "      <th>time</th>\n",
       "      <th>id_x</th>\n",
       "      <th>amount</th>\n",
       "      <th>reward_x</th>\n",
       "      <th>id_y</th>\n",
       "      <th>offer_id_y</th>\n",
       "      <th>offer_type</th>\n",
       "      <th>duration_h</th>\n",
       "      <th>reward_y</th>\n",
       "      <th>difficulty</th>\n",
       "    </tr>\n",
       "  </thead>\n",
       "  <tbody>\n",
       "    <tr>\n",
       "      <th>0</th>\n",
       "      <td>offer received</td>\n",
       "      <td>78afa995795e4d85b5d9ceeca43f5fef</td>\n",
       "      <td>0</td>\n",
       "      <td>78afa995795e4d85b5d9ceeca43f5fef</td>\n",
       "      <td>2</td>\n",
       "      <td>9b98b8c7a33c4b65b9aebfe6a799e6d9</td>\n",
       "      <td>0</td>\n",
       "      <td>0</td>\n",
       "      <td>offer viewed</td>\n",
       "      <td>78afa995795e4d85b5d9ceeca43f5fef</td>\n",
       "      <td>...</td>\n",
       "      <td>132</td>\n",
       "      <td>78afa995795e4d85b5d9ceeca43f5fef</td>\n",
       "      <td>0</td>\n",
       "      <td>5</td>\n",
       "      <td>9b98b8c7a33c4b65b9aebfe6a799e6d9</td>\n",
       "      <td>4</td>\n",
       "      <td>bogo</td>\n",
       "      <td>168</td>\n",
       "      <td>0.5</td>\n",
       "      <td>0.25</td>\n",
       "    </tr>\n",
       "    <tr>\n",
       "      <th>1</th>\n",
       "      <td>offer received</td>\n",
       "      <td>78afa995795e4d85b5d9ceeca43f5fef</td>\n",
       "      <td>408</td>\n",
       "      <td>78afa995795e4d85b5d9ceeca43f5fef</td>\n",
       "      <td>2</td>\n",
       "      <td>ae264e3637204a6fb9bb56bc8210ddfd</td>\n",
       "      <td>0</td>\n",
       "      <td>0</td>\n",
       "      <td>offer viewed</td>\n",
       "      <td>78afa995795e4d85b5d9ceeca43f5fef</td>\n",
       "      <td>...</td>\n",
       "      <td>510</td>\n",
       "      <td>78afa995795e4d85b5d9ceeca43f5fef</td>\n",
       "      <td>0</td>\n",
       "      <td>10</td>\n",
       "      <td>ae264e3637204a6fb9bb56bc8210ddfd</td>\n",
       "      <td>1</td>\n",
       "      <td>bogo</td>\n",
       "      <td>168</td>\n",
       "      <td>1.0</td>\n",
       "      <td>0.50</td>\n",
       "    </tr>\n",
       "    <tr>\n",
       "      <th>2</th>\n",
       "      <td>offer received</td>\n",
       "      <td>78afa995795e4d85b5d9ceeca43f5fef</td>\n",
       "      <td>504</td>\n",
       "      <td>78afa995795e4d85b5d9ceeca43f5fef</td>\n",
       "      <td>2</td>\n",
       "      <td>f19421c1d4aa40978ebb69ca19b0e20d</td>\n",
       "      <td>0</td>\n",
       "      <td>0</td>\n",
       "      <td>offer viewed</td>\n",
       "      <td>78afa995795e4d85b5d9ceeca43f5fef</td>\n",
       "      <td>...</td>\n",
       "      <td>510</td>\n",
       "      <td>78afa995795e4d85b5d9ceeca43f5fef</td>\n",
       "      <td>0</td>\n",
       "      <td>5</td>\n",
       "      <td>f19421c1d4aa40978ebb69ca19b0e20d</td>\n",
       "      <td>9</td>\n",
       "      <td>bogo</td>\n",
       "      <td>120</td>\n",
       "      <td>0.5</td>\n",
       "      <td>0.25</td>\n",
       "    </tr>\n",
       "    <tr>\n",
       "      <th>3</th>\n",
       "      <td>offer received</td>\n",
       "      <td>e2127556f4f64592b11af22de27a7932</td>\n",
       "      <td>408</td>\n",
       "      <td>e2127556f4f64592b11af22de27a7932</td>\n",
       "      <td>3</td>\n",
       "      <td>9b98b8c7a33c4b65b9aebfe6a799e6d9</td>\n",
       "      <td>0</td>\n",
       "      <td>0</td>\n",
       "      <td>offer viewed</td>\n",
       "      <td>e2127556f4f64592b11af22de27a7932</td>\n",
       "      <td>...</td>\n",
       "      <td>522</td>\n",
       "      <td>e2127556f4f64592b11af22de27a7932</td>\n",
       "      <td>0</td>\n",
       "      <td>5</td>\n",
       "      <td>9b98b8c7a33c4b65b9aebfe6a799e6d9</td>\n",
       "      <td>4</td>\n",
       "      <td>bogo</td>\n",
       "      <td>168</td>\n",
       "      <td>0.5</td>\n",
       "      <td>0.25</td>\n",
       "    </tr>\n",
       "    <tr>\n",
       "      <th>4</th>\n",
       "      <td>offer received</td>\n",
       "      <td>e2127556f4f64592b11af22de27a7932</td>\n",
       "      <td>504</td>\n",
       "      <td>e2127556f4f64592b11af22de27a7932</td>\n",
       "      <td>3</td>\n",
       "      <td>fafdcd668e3743c1bb461111dcafc2a4</td>\n",
       "      <td>0</td>\n",
       "      <td>0</td>\n",
       "      <td>offer viewed</td>\n",
       "      <td>e2127556f4f64592b11af22de27a7932</td>\n",
       "      <td>...</td>\n",
       "      <td>522</td>\n",
       "      <td>e2127556f4f64592b11af22de27a7932</td>\n",
       "      <td>0</td>\n",
       "      <td>2</td>\n",
       "      <td>fafdcd668e3743c1bb461111dcafc2a4</td>\n",
       "      <td>7</td>\n",
       "      <td>discount</td>\n",
       "      <td>240</td>\n",
       "      <td>0.2</td>\n",
       "      <td>0.50</td>\n",
       "    </tr>\n",
       "  </tbody>\n",
       "</table>\n",
       "<p>5 rows × 25 columns</p>\n",
       "</div>"
      ],
      "text/plain": [
       "          event_x                          person_x  time_x  \\\n",
       "0  offer received  78afa995795e4d85b5d9ceeca43f5fef       0   \n",
       "1  offer received  78afa995795e4d85b5d9ceeca43f5fef     408   \n",
       "2  offer received  78afa995795e4d85b5d9ceeca43f5fef     504   \n",
       "3  offer received  e2127556f4f64592b11af22de27a7932     408   \n",
       "4  offer received  e2127556f4f64592b11af22de27a7932     504   \n",
       "\n",
       "                               id_x  person_id  \\\n",
       "0  78afa995795e4d85b5d9ceeca43f5fef          2   \n",
       "1  78afa995795e4d85b5d9ceeca43f5fef          2   \n",
       "2  78afa995795e4d85b5d9ceeca43f5fef          2   \n",
       "3  e2127556f4f64592b11af22de27a7932          3   \n",
       "4  e2127556f4f64592b11af22de27a7932          3   \n",
       "\n",
       "                         offer_id_x  amount_x reward_x       event_y  \\\n",
       "0  9b98b8c7a33c4b65b9aebfe6a799e6d9         0        0  offer viewed   \n",
       "1  ae264e3637204a6fb9bb56bc8210ddfd         0        0  offer viewed   \n",
       "2  f19421c1d4aa40978ebb69ca19b0e20d         0        0  offer viewed   \n",
       "3  9b98b8c7a33c4b65b9aebfe6a799e6d9         0        0  offer viewed   \n",
       "4  fafdcd668e3743c1bb461111dcafc2a4         0        0  offer viewed   \n",
       "\n",
       "                           person_y    ...      time  \\\n",
       "0  78afa995795e4d85b5d9ceeca43f5fef    ...       132   \n",
       "1  78afa995795e4d85b5d9ceeca43f5fef    ...       510   \n",
       "2  78afa995795e4d85b5d9ceeca43f5fef    ...       510   \n",
       "3  e2127556f4f64592b11af22de27a7932    ...       522   \n",
       "4  e2127556f4f64592b11af22de27a7932    ...       522   \n",
       "\n",
       "                               id_x  amount reward_x  \\\n",
       "0  78afa995795e4d85b5d9ceeca43f5fef       0        5   \n",
       "1  78afa995795e4d85b5d9ceeca43f5fef       0       10   \n",
       "2  78afa995795e4d85b5d9ceeca43f5fef       0        5   \n",
       "3  e2127556f4f64592b11af22de27a7932       0        5   \n",
       "4  e2127556f4f64592b11af22de27a7932       0        2   \n",
       "\n",
       "                               id_y  offer_id_y offer_type  duration_h  \\\n",
       "0  9b98b8c7a33c4b65b9aebfe6a799e6d9           4       bogo         168   \n",
       "1  ae264e3637204a6fb9bb56bc8210ddfd           1       bogo         168   \n",
       "2  f19421c1d4aa40978ebb69ca19b0e20d           9       bogo         120   \n",
       "3  9b98b8c7a33c4b65b9aebfe6a799e6d9           4       bogo         168   \n",
       "4  fafdcd668e3743c1bb461111dcafc2a4           7   discount         240   \n",
       "\n",
       "   reward_y difficulty  \n",
       "0       0.5       0.25  \n",
       "1       1.0       0.50  \n",
       "2       0.5       0.25  \n",
       "3       0.5       0.25  \n",
       "4       0.2       0.50  \n",
       "\n",
       "[5 rows x 25 columns]"
      ]
     },
     "execution_count": 131,
     "metadata": {},
     "output_type": "execute_result"
    }
   ],
   "source": [
    "##Dataframe where offer was both viewed and completed\n",
    "trans_viewncomplete = trans_received.merge(trans_view, how='inner', on=['person_id', 'offer_id']).merge(trans_complete, how='inner', on=['person_id', 'offer_id'])\n",
    "trans_viewncomplete = trans_viewncomplete.drop('reward_y', axis=1)\n",
    "trans_viewncomplete = trans_viewncomplete.merge(portfolio[['id','offer_id', 'offer_type', 'duration_h', 'reward', 'difficulty']], how='left', left_on='offer_id', right_on='id')\n",
    "trans_viewncomplete = trans_viewncomplete[(trans_viewncomplete['time']-trans_viewncomplete['time_x'])<=trans_viewncomplete['duration_h']]\n",
    "trans_viewncomplete.head()"
   ]
  },
  {
   "cell_type": "markdown",
   "metadata": {},
   "source": [
    "Informational Offers"
   ]
  },
  {
   "cell_type": "markdown",
   "metadata": {},
   "source": [
    "##For informational offers it is tricky to see which offers were completed. Hence, we are looking for people who received the informational offers and then made any transaction during the validity period of the offer"
   ]
  },
  {
   "cell_type": "code",
   "execution_count": 60,
   "metadata": {},
   "outputs": [
    {
     "data": {
      "text/html": [
       "<div>\n",
       "<style scoped>\n",
       "    .dataframe tbody tr th:only-of-type {\n",
       "        vertical-align: middle;\n",
       "    }\n",
       "\n",
       "    .dataframe tbody tr th {\n",
       "        vertical-align: top;\n",
       "    }\n",
       "\n",
       "    .dataframe thead th {\n",
       "        text-align: right;\n",
       "    }\n",
       "</style>\n",
       "<table border=\"1\" class=\"dataframe\">\n",
       "  <thead>\n",
       "    <tr style=\"text-align: right;\">\n",
       "      <th></th>\n",
       "      <th>person_id</th>\n",
       "      <th>offer_id_y</th>\n",
       "      <th>offer_type</th>\n",
       "      <th>time_x</th>\n",
       "      <th>amount</th>\n",
       "    </tr>\n",
       "  </thead>\n",
       "  <tbody>\n",
       "    <tr>\n",
       "      <th>0</th>\n",
       "      <td>2</td>\n",
       "      <td>8</td>\n",
       "      <td>informational</td>\n",
       "      <td>168</td>\n",
       "      <td>17</td>\n",
       "    </tr>\n",
       "    <tr>\n",
       "      <th>1</th>\n",
       "      <td>6</td>\n",
       "      <td>8</td>\n",
       "      <td>informational</td>\n",
       "      <td>336</td>\n",
       "      <td>10</td>\n",
       "    </tr>\n",
       "    <tr>\n",
       "      <th>2</th>\n",
       "      <td>9</td>\n",
       "      <td>8</td>\n",
       "      <td>informational</td>\n",
       "      <td>504</td>\n",
       "      <td>0</td>\n",
       "    </tr>\n",
       "    <tr>\n",
       "      <th>3</th>\n",
       "      <td>11</td>\n",
       "      <td>8</td>\n",
       "      <td>informational</td>\n",
       "      <td>576</td>\n",
       "      <td>0</td>\n",
       "    </tr>\n",
       "    <tr>\n",
       "      <th>4</th>\n",
       "      <td>13</td>\n",
       "      <td>3</td>\n",
       "      <td>informational</td>\n",
       "      <td>408</td>\n",
       "      <td>21</td>\n",
       "    </tr>\n",
       "  </tbody>\n",
       "</table>\n",
       "</div>"
      ],
      "text/plain": [
       "   person_id  offer_id_y     offer_type  time_x  amount\n",
       "0          2           8  informational     168      17\n",
       "1          6           8  informational     336      10\n",
       "2          9           8  informational     504       0\n",
       "3         11           8  informational     576       0\n",
       "4         13           3  informational     408      21"
      ]
     },
     "execution_count": 60,
     "metadata": {},
     "output_type": "execute_result"
    }
   ],
   "source": [
    "## looking at informational offers and transactions made post that\n",
    "trans_received_info = trans_received.merge(trans_view, how='inner', on=['person_id', 'offer_id']).merge(portfolio[portfolio['offer_type']=='informational'], how='inner', left_on='offer_id', right_on='id')\n",
    "trans_received_info_clean = trans_received_info.drop(['offer_id_x', 'id', 'amount_x', 'reward_x', 'reward_y', 'channels'], axis=1)\n",
    "trans_received_info_x = trans_received_info_clean.merge(trans_trans, on='person_id', how='inner')\n",
    "trans_received_info_x = trans_received_info_x[(trans_received_info_x['time_y']-trans_received_info_x['time_x'])<=trans_received_info_x['duration_h']]\n",
    "info_completed = trans_received_info_x.groupby(['person_id', 'offer_id_y', 'offer_type', 'time_x'])['amount'].min().reset_index()\n",
    "info_completed.head()"
   ]
  },
  {
   "cell_type": "markdown",
   "metadata": {},
   "source": [
    "Response Rates for each offer"
   ]
  },
  {
   "cell_type": "code",
   "execution_count": 61,
   "metadata": {},
   "outputs": [],
   "source": [
    "##Calculating response rates\n",
    "response_rate_bogo = (trans_port_satis.offer_type == 'bogo').sum()/(trans_with_port.offer_type == 'bogo').sum()\n",
    "response_rate_discount = (trans_port_satis.offer_type == 'discount').sum()/(trans_with_port.offer_type == 'discount').sum()\n",
    "response_rate_info = info_completed.shape[0]/(trans_with_port.offer_type == 'informational').sum()"
   ]
  },
  {
   "cell_type": "code",
   "execution_count": 161,
   "metadata": {},
   "outputs": [
    {
     "data": {
      "text/plain": [
       "Text(0.5,1,'Response rate for each offer type')"
      ]
     },
     "execution_count": 161,
     "metadata": {},
     "output_type": "execute_result"
    },
    {
     "data": {
      "image/png": "[encoded data removed]",
      "text/plain": [
       "<matplotlib.figure.Figure at 0x7ff46fd244e0>"
      ]
     },
     "metadata": {
      "needs_background": "light"
     },
     "output_type": "display_data"
    }
   ],
   "source": [
    "offer_counts = [response_rate_bogo, response_rate_discount, response_rate_info]\n",
    "offers = ['bogo', 'discount', 'informational']\n",
    "data = offer_counts\n",
    "plt.bar(offers,height = data);\n",
    "plt.xlabel('Offer type');\n",
    "plt.ylabel('No. of offers');\n",
    "plt.title('Response rate for each offer type')"
   ]
  },
  {
   "cell_type": "code",
   "execution_count": 62,
   "metadata": {},
   "outputs": [],
   "source": [
    "trans_offers_profile = trans_port_satis[['person_id', 'offer_type']].merge(profile[['person_id', 'age_group', 'gender', 'income', 'member_year']], how='left', on='person_id')\n",
    "trans_info_with_port = info_completed[['person_id', 'offer_type']].merge(profile[['person_id', 'age_group', 'gender', 'income', 'member_year']], how='left', on='person_id')"
   ]
  },
  {
   "cell_type": "code",
   "execution_count": 63,
   "metadata": {},
   "outputs": [
    {
     "data": {
      "text/html": [
       "<div>\n",
       "<style scoped>\n",
       "    .dataframe tbody tr th:only-of-type {\n",
       "        vertical-align: middle;\n",
       "    }\n",
       "\n",
       "    .dataframe tbody tr th {\n",
       "        vertical-align: top;\n",
       "    }\n",
       "\n",
       "    .dataframe thead th {\n",
       "        text-align: right;\n",
       "    }\n",
       "</style>\n",
       "<table border=\"1\" class=\"dataframe\">\n",
       "  <thead>\n",
       "    <tr style=\"text-align: right;\">\n",
       "      <th></th>\n",
       "      <th>person_id</th>\n",
       "      <th>offer_type</th>\n",
       "      <th>age_group</th>\n",
       "      <th>gender</th>\n",
       "      <th>income</th>\n",
       "      <th>member_year</th>\n",
       "    </tr>\n",
       "  </thead>\n",
       "  <tbody>\n",
       "    <tr>\n",
       "      <th>0</th>\n",
       "      <td>2</td>\n",
       "      <td>bogo</td>\n",
       "      <td>elderly</td>\n",
       "      <td>F</td>\n",
       "      <td>100000.0</td>\n",
       "      <td>2017</td>\n",
       "    </tr>\n",
       "    <tr>\n",
       "      <th>1</th>\n",
       "      <td>2</td>\n",
       "      <td>bogo</td>\n",
       "      <td>elderly</td>\n",
       "      <td>F</td>\n",
       "      <td>100000.0</td>\n",
       "      <td>2017</td>\n",
       "    </tr>\n",
       "    <tr>\n",
       "      <th>2</th>\n",
       "      <td>2</td>\n",
       "      <td>bogo</td>\n",
       "      <td>elderly</td>\n",
       "      <td>F</td>\n",
       "      <td>100000.0</td>\n",
       "      <td>2017</td>\n",
       "    </tr>\n",
       "    <tr>\n",
       "      <th>3</th>\n",
       "      <td>3</td>\n",
       "      <td>bogo</td>\n",
       "      <td>elderly</td>\n",
       "      <td>M</td>\n",
       "      <td>70000.0</td>\n",
       "      <td>2018</td>\n",
       "    </tr>\n",
       "    <tr>\n",
       "      <th>4</th>\n",
       "      <td>3</td>\n",
       "      <td>discount</td>\n",
       "      <td>elderly</td>\n",
       "      <td>M</td>\n",
       "      <td>70000.0</td>\n",
       "      <td>2018</td>\n",
       "    </tr>\n",
       "  </tbody>\n",
       "</table>\n",
       "</div>"
      ],
      "text/plain": [
       "   person_id offer_type age_group gender    income  member_year\n",
       "0          2       bogo   elderly      F  100000.0         2017\n",
       "1          2       bogo   elderly      F  100000.0         2017\n",
       "2          2       bogo   elderly      F  100000.0         2017\n",
       "3          3       bogo   elderly      M   70000.0         2018\n",
       "4          3   discount   elderly      M   70000.0         2018"
      ]
     },
     "execution_count": 63,
     "metadata": {},
     "output_type": "execute_result"
    }
   ],
   "source": [
    "##Combining offers that were completed for all three offer types\n",
    "completed_offers = trans_offers_profile.append(trans_info_with_port)\n",
    "completed_offers.head()"
   ]
  },
  {
   "cell_type": "code",
   "execution_count": 160,
   "metadata": {},
   "outputs": [
    {
     "data": {
      "image/png": "[encoded data removed]",
      "text/plain": [
       "<matplotlib.figure.Figure at 0x7ff46fe2d4a8>"
      ]
     },
     "metadata": {
      "needs_background": "light"
     },
     "output_type": "display_data"
    }
   ],
   "source": [
    "import seaborn as sns\n",
    "\n",
    "\n",
    "plt.figure(figsize=(7, 3.5))\n",
    "sns.countplot(x='gender', hue=\"offer_type\", data= completed_offers)\n",
    "plt.title('Most Popular Offers among each Gender')\n",
    "plt.ylabel('Total offers')\n",
    "plt.xlabel('Gender')\n",
    "plt.show();"
   ]
  },
  {
   "cell_type": "markdown",
   "metadata": {},
   "source": [
    "Discount offers were found to be the most popular"
   ]
  },
  {
   "cell_type": "markdown",
   "metadata": {},
   "source": [
    "# Data Modeling"
   ]
  },
  {
   "cell_type": "markdown",
   "metadata": {},
   "source": [
    "Create two dataframes - one with offers that were viewed and completed and the other with offer only viewed but not completed. After that, append them."
   ]
  },
  {
   "cell_type": "code",
   "execution_count": 135,
   "metadata": {},
   "outputs": [
    {
     "data": {
      "text/html": [
       "<div>\n",
       "<style scoped>\n",
       "    .dataframe tbody tr th:only-of-type {\n",
       "        vertical-align: middle;\n",
       "    }\n",
       "\n",
       "    .dataframe tbody tr th {\n",
       "        vertical-align: top;\n",
       "    }\n",
       "\n",
       "    .dataframe thead th {\n",
       "        text-align: right;\n",
       "    }\n",
       "</style>\n",
       "<table border=\"1\" class=\"dataframe\">\n",
       "  <thead>\n",
       "    <tr style=\"text-align: right;\">\n",
       "      <th></th>\n",
       "      <th>offer_type</th>\n",
       "      <th>reward_y</th>\n",
       "      <th>duration_h</th>\n",
       "      <th>difficulty</th>\n",
       "      <th>age</th>\n",
       "      <th>gender</th>\n",
       "      <th>income</th>\n",
       "      <th>member_year</th>\n",
       "      <th>offer_action</th>\n",
       "    </tr>\n",
       "  </thead>\n",
       "  <tbody>\n",
       "    <tr>\n",
       "      <th>0</th>\n",
       "      <td>bogo</td>\n",
       "      <td>0.5</td>\n",
       "      <td>168</td>\n",
       "      <td>0.25</td>\n",
       "      <td>75</td>\n",
       "      <td>F</td>\n",
       "      <td>100000.0</td>\n",
       "      <td>2017</td>\n",
       "      <td>1</td>\n",
       "    </tr>\n",
       "    <tr>\n",
       "      <th>1</th>\n",
       "      <td>bogo</td>\n",
       "      <td>1.0</td>\n",
       "      <td>168</td>\n",
       "      <td>0.50</td>\n",
       "      <td>75</td>\n",
       "      <td>F</td>\n",
       "      <td>100000.0</td>\n",
       "      <td>2017</td>\n",
       "      <td>1</td>\n",
       "    </tr>\n",
       "    <tr>\n",
       "      <th>2</th>\n",
       "      <td>bogo</td>\n",
       "      <td>0.5</td>\n",
       "      <td>120</td>\n",
       "      <td>0.25</td>\n",
       "      <td>75</td>\n",
       "      <td>F</td>\n",
       "      <td>100000.0</td>\n",
       "      <td>2017</td>\n",
       "      <td>1</td>\n",
       "    </tr>\n",
       "    <tr>\n",
       "      <th>3</th>\n",
       "      <td>bogo</td>\n",
       "      <td>0.5</td>\n",
       "      <td>168</td>\n",
       "      <td>0.25</td>\n",
       "      <td>68</td>\n",
       "      <td>M</td>\n",
       "      <td>70000.0</td>\n",
       "      <td>2018</td>\n",
       "      <td>1</td>\n",
       "    </tr>\n",
       "    <tr>\n",
       "      <th>4</th>\n",
       "      <td>discount</td>\n",
       "      <td>0.2</td>\n",
       "      <td>240</td>\n",
       "      <td>0.50</td>\n",
       "      <td>68</td>\n",
       "      <td>M</td>\n",
       "      <td>70000.0</td>\n",
       "      <td>2018</td>\n",
       "      <td>1</td>\n",
       "    </tr>\n",
       "  </tbody>\n",
       "</table>\n",
       "</div>"
      ],
      "text/plain": [
       "  offer_type  reward_y  duration_h  difficulty  age gender    income  \\\n",
       "0       bogo       0.5         168        0.25   75      F  100000.0   \n",
       "1       bogo       1.0         168        0.50   75      F  100000.0   \n",
       "2       bogo       0.5         120        0.25   75      F  100000.0   \n",
       "3       bogo       0.5         168        0.25   68      M   70000.0   \n",
       "4   discount       0.2         240        0.50   68      M   70000.0   \n",
       "\n",
       "   member_year  offer_action  \n",
       "0         2017             1  \n",
       "1         2017             1  \n",
       "2         2017             1  \n",
       "3         2018             1  \n",
       "4         2018             1  "
      ]
     },
     "execution_count": 135,
     "metadata": {},
     "output_type": "execute_result"
    }
   ],
   "source": [
    "##Dataframe considering offers which were both viewed and completed\n",
    "trans_viewcomplete = trans_viewncomplete[['person_id', 'offer_type','reward_y', 'duration_h', 'difficulty']]\n",
    "trans_viewcomplete = trans_viewcomplete.merge(profile[['person_id', 'age', 'gender', 'income', 'member_year']], how='left', on='person_id')\n",
    "\n",
    "#Since offers were completed, offer_action=1\n",
    "trans_viewcomplete['offer_action'] = 1\n",
    "trans_viewcomplete = trans_viewcomplete.drop(['person_id'], axis=1)\n",
    "trans_viewcomplete.head()"
   ]
  },
  {
   "cell_type": "code",
   "execution_count": 137,
   "metadata": {},
   "outputs": [
    {
     "data": {
      "text/html": [
       "<div>\n",
       "<style scoped>\n",
       "    .dataframe tbody tr th:only-of-type {\n",
       "        vertical-align: middle;\n",
       "    }\n",
       "\n",
       "    .dataframe tbody tr th {\n",
       "        vertical-align: top;\n",
       "    }\n",
       "\n",
       "    .dataframe thead th {\n",
       "        text-align: right;\n",
       "    }\n",
       "</style>\n",
       "<table border=\"1\" class=\"dataframe\">\n",
       "  <thead>\n",
       "    <tr style=\"text-align: right;\">\n",
       "      <th></th>\n",
       "      <th>offer_type_y</th>\n",
       "      <th>reward_y</th>\n",
       "      <th>duration_h_y</th>\n",
       "      <th>difficulty_y</th>\n",
       "      <th>age</th>\n",
       "      <th>gender</th>\n",
       "      <th>income</th>\n",
       "      <th>member_year</th>\n",
       "      <th>offer_action</th>\n",
       "    </tr>\n",
       "  </thead>\n",
       "  <tbody>\n",
       "    <tr>\n",
       "      <th>0</th>\n",
       "      <td>informational</td>\n",
       "      <td>0.0</td>\n",
       "      <td>72</td>\n",
       "      <td>0.00</td>\n",
       "      <td>75</td>\n",
       "      <td>F</td>\n",
       "      <td>100000.0</td>\n",
       "      <td>2017</td>\n",
       "      <td>0</td>\n",
       "    </tr>\n",
       "    <tr>\n",
       "      <th>1</th>\n",
       "      <td>discount</td>\n",
       "      <td>0.2</td>\n",
       "      <td>168</td>\n",
       "      <td>0.50</td>\n",
       "      <td>68</td>\n",
       "      <td>M</td>\n",
       "      <td>70000.0</td>\n",
       "      <td>2018</td>\n",
       "      <td>0</td>\n",
       "    </tr>\n",
       "    <tr>\n",
       "      <th>2</th>\n",
       "      <td>discount</td>\n",
       "      <td>0.3</td>\n",
       "      <td>168</td>\n",
       "      <td>0.35</td>\n",
       "      <td>58</td>\n",
       "      <td>M</td>\n",
       "      <td>51000.0</td>\n",
       "      <td>2017</td>\n",
       "      <td>0</td>\n",
       "    </tr>\n",
       "    <tr>\n",
       "      <th>3</th>\n",
       "      <td>discount</td>\n",
       "      <td>0.5</td>\n",
       "      <td>240</td>\n",
       "      <td>1.00</td>\n",
       "      <td>61</td>\n",
       "      <td>F</td>\n",
       "      <td>57000.0</td>\n",
       "      <td>2017</td>\n",
       "      <td>0</td>\n",
       "    </tr>\n",
       "    <tr>\n",
       "      <th>4</th>\n",
       "      <td>informational</td>\n",
       "      <td>0.0</td>\n",
       "      <td>72</td>\n",
       "      <td>0.00</td>\n",
       "      <td>61</td>\n",
       "      <td>F</td>\n",
       "      <td>57000.0</td>\n",
       "      <td>2017</td>\n",
       "      <td>0</td>\n",
       "    </tr>\n",
       "  </tbody>\n",
       "</table>\n",
       "</div>"
      ],
      "text/plain": [
       "    offer_type_y  reward_y  duration_h_y  difficulty_y  age gender    income  \\\n",
       "0  informational       0.0            72          0.00   75      F  100000.0   \n",
       "1       discount       0.2           168          0.50   68      M   70000.0   \n",
       "2       discount       0.3           168          0.35   58      M   51000.0   \n",
       "3       discount       0.5           240          1.00   61      F   57000.0   \n",
       "4  informational       0.0            72          0.00   61      F   57000.0   \n",
       "\n",
       "   member_year  offer_action  \n",
       "0         2017             0  \n",
       "1         2018             0  \n",
       "2         2017             0  \n",
       "3         2017             0  \n",
       "4         2017             0  "
      ]
     },
     "execution_count": 137,
     "metadata": {},
     "output_type": "execute_result"
    }
   ],
   "source": [
    "##Dataframe considering offers which were only viewed but not completed\n",
    "trans_viewonly = trans_view.merge(trans_viewncomplete, how='outer', indicator=True,  left_on=['person_id','time', 'offer_id'], right_on=['person_id','time_y', 'offer_id_x'])\n",
    "trans_viewonly = trans_viewonly[trans_viewonly['_merge']=='left_only']\n",
    "trans_viewonly = trans_viewonly.merge(portfolio[['id','offer_id', 'offer_type', 'duration_h', 'reward', 'difficulty']], how='left', left_on='offer_id', right_on='id')\n",
    "trans_viewonly = trans_viewonly[['person_id', 'offer_type_y','reward_y', 'duration_h_y', 'difficulty_y']]\n",
    "trans_viewonly = trans_viewonly.merge(profile[['person_id', 'age', 'gender', 'income', 'member_year']], how='left', on='person_id')\n",
    "trans_viewonly = trans_viewonly.dropna(axis=1)\n",
    "\n",
    "#Since offers were viewed but not completed, offer_action=0\n",
    "trans_viewonly['offer_action'] = 0\n",
    "trans_viewonly = trans_viewonly.drop(['person_id'], axis=1)\n",
    "trans_viewonly.head()"
   ]
  },
  {
   "cell_type": "code",
   "execution_count": 145,
   "metadata": {},
   "outputs": [],
   "source": [
    "#Match the names of columns in the dataframes\n",
    "trans_viewonly.columns=trans_viewcomplete.columns.values\n",
    "\n",
    "##Append the two dataframes\n",
    "offer_actions = trans_viewonly.append(trans_viewcomplete)"
   ]
  },
  {
   "cell_type": "code",
   "execution_count": 148,
   "metadata": {},
   "outputs": [],
   "source": [
    "offer_actions = pd.get_dummies(data=offer_actions, columns=['offer_type', 'gender'])"
   ]
  },
  {
   "cell_type": "code",
   "execution_count": 151,
   "metadata": {},
   "outputs": [],
   "source": [
    "## Split into dependent and explanatory variables\n",
    "\n",
    "X = offer_actions.drop('offer_action', axis=1)\n",
    "y = offer_actions['offer_action']\n",
    "\n",
    "## Split into test and train datasets\n",
    "X_train, X_test, y_train, y_test = train_test_split(X, y, test_size = .30, random_state=42) \n",
    "\n",
    "\n",
    "model = LogisticRegression()\n",
    "model.fit(X_train, y_train) #Fit\n",
    "        \n",
    "#Predict and score the model\n",
    "y_pred = model.predict_proba(X_test)\n",
    "y_pred = [(a>.5).astype(int) for a in y_pred]"
   ]
  },
  {
   "cell_type": "code",
   "execution_count": 159,
   "metadata": {},
   "outputs": [
    {
     "data": {
      "text/plain": [
       "0.7966345482474515"
      ]
     },
     "execution_count": 159,
     "metadata": {},
     "output_type": "execute_result"
    }
   ],
   "source": [
    "model.score(X,y)"
   ]
  },
  {
   "cell_type": "markdown",
   "metadata": {},
   "source": [
    "The above model gives us a good accuracy in predicting whether a person will complete a particular offer or not.\n",
    "We can use the above model to send offers to the customers."
   ]
  }
 ],
 "metadata": {
  "kernelspec": {
   "display_name": "Python 3",
   "language": "python",
   "name": "python3"
  },
  "language_info": {
   "codemirror_mode": {
    "name": "ipython",
    "version": 3
   },
   "file_extension": ".py",
   "mimetype": "text/x-python",
   "name": "python",
   "nbconvert_exporter": "python",
   "pygments_lexer": "ipython3",
   "version": "3.6.3"
  }
 },
 "nbformat": 4,
 "nbformat_minor": 2
}
